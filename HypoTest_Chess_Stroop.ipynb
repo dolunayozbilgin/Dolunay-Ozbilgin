{
 "cells": [
  {
   "cell_type": "markdown",
   "id": "d216d912",
   "metadata": {},
   "source": [
    "# 🧪 Hypothesis Testing: Stroop Test & Chess Playing"
   ]
  },
  {
   "cell_type": "markdown",
   "id": "ed520808",
   "metadata": {},
   "source": [
    "## 📌 Objective\n",
    "To determine whether playing chess has a statistically significant impact on Stroop test scores.\n",
    "\n",
    "**Null Hypothesis (H₀):** Chess playing has no effect on Stroop test improvement (After - Before).\n",
    "\n",
    "**Alternative Hypothesis (H₁):** Chess playing improves Stroop performance (After - Before)."
   ]
  },
  {
   "cell_type": "code",
   "execution_count": null,
   "id": "0fae96b4",
   "metadata": {},
   "outputs": [],
   "source": [
    "import pandas as pd\n",
    "from scipy.stats import ttest_ind, mannwhitneyu\n",
    "import matplotlib.pyplot as plt\n",
    "import seaborn as sns\n",
    "\n",
    "# Load dataset\n",
    "df = pd.read_csv('/mnt/data/Stroop_score_datas - Sheet1 (3).csv')\n",
    "df = df.iloc[2:].copy()\n",
    "df.columns = ['Date', 'Chess Played?', 'Stroop Score (Before)', 'Stroop Score (After)']\n",
    "df['Date'] = pd.to_datetime(df['Date'], dayfirst=True)\n",
    "df['Stroop Score (Before)'] = df['Stroop Score (Before)'].astype(float)\n",
    "df['Stroop Score (After)'] = df['Stroop Score (After)'].astype(float)\n",
    "df['Stroop Improvement'] = df['Stroop Score (After)'] - df['Stroop Score (Before)']\n",
    "\n",
    "# Separate groups\n",
    "chess_yes = df[df['Chess Played?'] == 'Yes']['Stroop Improvement']\n",
    "chess_no = df[df['Chess Played?'] == 'No']['Stroop Improvement']"
   ]
  },
  {
   "cell_type": "markdown",
   "id": "f5383881",
   "metadata": {},
   "source": [
    "## 📊 Visual Comparison: Boxplot"
   ]
  },
  {
   "cell_type": "code",
   "execution_count": null,
   "id": "9a23e4ac",
   "metadata": {},
   "outputs": [],
   "source": [
    "sns.boxplot(data=df, x='Chess Played?', y='Stroop Improvement', palette='Set2')\n",
    "plt.title('Stroop Improvement by Chess Playing')\n",
    "plt.xlabel('Chess Played?')\n",
    "plt.ylabel('Stroop Score Improvement')\n",
    "plt.grid(True, axis='y', linestyle='--', alpha=0.5)\n",
    "plt.tight_layout()\n",
    "plt.show()"
   ]
  },
  {
   "cell_type": "markdown",
   "id": "6e9d429e",
   "metadata": {},
   "source": [
    "## 🧪 Statistical Testing\n",
    "We'll apply both **independent t-test** (parametric) and **Mann-Whitney U test** (non-parametric):"
   ]
  },
  {
   "cell_type": "code",
   "execution_count": null,
   "id": "70fecb1d",
   "metadata": {},
   "outputs": [],
   "source": [
    "# t-test\n",
    "t_stat, t_p = ttest_ind(chess_yes, chess_no, equal_var=False, nan_policy='omit')\n",
    "\n",
    "# Mann-Whitney U test\n",
    "u_stat, u_p = mannwhitneyu(chess_yes, chess_no, alternative='two-sided')\n",
    "\n",
    "print(f\"T-Test p-value: {t_p:.4f}\")\n",
    "print(f\"Mann-Whitney U Test p-value: {u_p:.4f}\")\n",
    "\n",
    "if t_p < 0.05:\n",
    "    print('❗Reject the null hypothesis based on t-test: Chess has a significant impact.')\n",
    "else:\n",
    "    print('✅ Fail to reject the null hypothesis based on t-test: No significant effect.')\n",
    "\n",
    "if u_p < 0.05:\n",
    "    print('❗Reject the null hypothesis based on Mann-Whitney U test.')\n",
    "else:\n",
    "    print('✅ Fail to reject the null hypothesis based on Mann-Whitney U test.')"
   ]
  }
 ],
 "metadata": {},
 "nbformat": 4,
 "nbformat_minor": 5
}

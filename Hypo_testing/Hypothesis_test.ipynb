{
  "nbformat": 4,
  "nbformat_minor": 0,
  "metadata": {
    "colab": {
      "provenance": []
    },
    "kernelspec": {
      "name": "python3",
      "display_name": "Python 3"
    },
    "language_info": {
      "name": "python"
    }
  },
  "cells": [
    {
      "cell_type": "code",
      "execution_count": 1,
      "metadata": {
        "colab": {
          "base_uri": "https://localhost:8080/",
          "height": 356
        },
        "id": "nMDLmW6miFZ1",
        "outputId": "8875949c-c2b6-4ebd-f908-f3fd57d08d08"
      },
      "outputs": [
        {
          "output_type": "error",
          "ename": "FileNotFoundError",
          "evalue": "[Errno 2] No such file or directory: '/content/drive/MyDrive/reaction_time_datas - reaction_time_datas - Sheet1 (1) (2) - reaction_time_datas - reaction_time_datas - Sheet1 (1) (2).csv'",
          "traceback": [
            "\u001b[0;31m---------------------------------------------------------------------------\u001b[0m",
            "\u001b[0;31mFileNotFoundError\u001b[0m                         Traceback (most recent call last)",
            "\u001b[0;32m<ipython-input-1-25a1acb955c5>\u001b[0m in \u001b[0;36m<cell line: 0>\u001b[0;34m()\u001b[0m\n\u001b[1;32m      5\u001b[0m \u001b[0;32mimport\u001b[0m \u001b[0mstatsmodels\u001b[0m\u001b[0;34m.\u001b[0m\u001b[0mapi\u001b[0m \u001b[0;32mas\u001b[0m \u001b[0msm\u001b[0m\u001b[0;34m\u001b[0m\u001b[0;34m\u001b[0m\u001b[0m\n\u001b[1;32m      6\u001b[0m \u001b[0;34m\u001b[0m\u001b[0m\n\u001b[0;32m----> 7\u001b[0;31m \u001b[0mreaction_df\u001b[0m \u001b[0;34m=\u001b[0m \u001b[0mpd\u001b[0m\u001b[0;34m.\u001b[0m\u001b[0mread_csv\u001b[0m\u001b[0;34m(\u001b[0m\u001b[0;34m'/content/drive/MyDrive/reaction_time_datas - reaction_time_datas - Sheet1 (1) (2) - reaction_time_datas - reaction_time_datas - Sheet1 (1) (2).csv'\u001b[0m\u001b[0;34m)\u001b[0m\u001b[0;34m\u001b[0m\u001b[0;34m\u001b[0m\u001b[0m\n\u001b[0m\u001b[1;32m      8\u001b[0m \u001b[0mdigit_df\u001b[0m \u001b[0;34m=\u001b[0m \u001b[0mpd\u001b[0m\u001b[0;34m.\u001b[0m\u001b[0mread_csv\u001b[0m\u001b[0;34m(\u001b[0m\u001b[0;34m'/content/drive/MyDrive/processed_digit_span_data_last - processed_digit_span_data (1) - processed_digit_span_data_last - processed_digit_span_data (1).csv'\u001b[0m\u001b[0;34m)\u001b[0m\u001b[0;34m\u001b[0m\u001b[0;34m\u001b[0m\u001b[0m\n\u001b[1;32m      9\u001b[0m \u001b[0mstroop_df\u001b[0m \u001b[0;34m=\u001b[0m \u001b[0mpd\u001b[0m\u001b[0;34m.\u001b[0m\u001b[0mread_csv\u001b[0m\u001b[0;34m(\u001b[0m\u001b[0;34m'/content/drive/MyDrive/Stroop_score_datas - Sheet1 (3).csv'\u001b[0m\u001b[0;34m)\u001b[0m\u001b[0;34m\u001b[0m\u001b[0;34m\u001b[0m\u001b[0m\n",
            "\u001b[0;32m/usr/local/lib/python3.11/dist-packages/pandas/io/parsers/readers.py\u001b[0m in \u001b[0;36mread_csv\u001b[0;34m(filepath_or_buffer, sep, delimiter, header, names, index_col, usecols, dtype, engine, converters, true_values, false_values, skipinitialspace, skiprows, skipfooter, nrows, na_values, keep_default_na, na_filter, verbose, skip_blank_lines, parse_dates, infer_datetime_format, keep_date_col, date_parser, date_format, dayfirst, cache_dates, iterator, chunksize, compression, thousands, decimal, lineterminator, quotechar, quoting, doublequote, escapechar, comment, encoding, encoding_errors, dialect, on_bad_lines, delim_whitespace, low_memory, memory_map, float_precision, storage_options, dtype_backend)\u001b[0m\n\u001b[1;32m   1024\u001b[0m     \u001b[0mkwds\u001b[0m\u001b[0;34m.\u001b[0m\u001b[0mupdate\u001b[0m\u001b[0;34m(\u001b[0m\u001b[0mkwds_defaults\u001b[0m\u001b[0;34m)\u001b[0m\u001b[0;34m\u001b[0m\u001b[0;34m\u001b[0m\u001b[0m\n\u001b[1;32m   1025\u001b[0m \u001b[0;34m\u001b[0m\u001b[0m\n\u001b[0;32m-> 1026\u001b[0;31m     \u001b[0;32mreturn\u001b[0m \u001b[0m_read\u001b[0m\u001b[0;34m(\u001b[0m\u001b[0mfilepath_or_buffer\u001b[0m\u001b[0;34m,\u001b[0m \u001b[0mkwds\u001b[0m\u001b[0;34m)\u001b[0m\u001b[0;34m\u001b[0m\u001b[0;34m\u001b[0m\u001b[0m\n\u001b[0m\u001b[1;32m   1027\u001b[0m \u001b[0;34m\u001b[0m\u001b[0m\n\u001b[1;32m   1028\u001b[0m \u001b[0;34m\u001b[0m\u001b[0m\n",
            "\u001b[0;32m/usr/local/lib/python3.11/dist-packages/pandas/io/parsers/readers.py\u001b[0m in \u001b[0;36m_read\u001b[0;34m(filepath_or_buffer, kwds)\u001b[0m\n\u001b[1;32m    618\u001b[0m \u001b[0;34m\u001b[0m\u001b[0m\n\u001b[1;32m    619\u001b[0m     \u001b[0;31m# Create the parser.\u001b[0m\u001b[0;34m\u001b[0m\u001b[0;34m\u001b[0m\u001b[0m\n\u001b[0;32m--> 620\u001b[0;31m     \u001b[0mparser\u001b[0m \u001b[0;34m=\u001b[0m \u001b[0mTextFileReader\u001b[0m\u001b[0;34m(\u001b[0m\u001b[0mfilepath_or_buffer\u001b[0m\u001b[0;34m,\u001b[0m \u001b[0;34m**\u001b[0m\u001b[0mkwds\u001b[0m\u001b[0;34m)\u001b[0m\u001b[0;34m\u001b[0m\u001b[0;34m\u001b[0m\u001b[0m\n\u001b[0m\u001b[1;32m    621\u001b[0m \u001b[0;34m\u001b[0m\u001b[0m\n\u001b[1;32m    622\u001b[0m     \u001b[0;32mif\u001b[0m \u001b[0mchunksize\u001b[0m \u001b[0;32mor\u001b[0m \u001b[0miterator\u001b[0m\u001b[0;34m:\u001b[0m\u001b[0;34m\u001b[0m\u001b[0;34m\u001b[0m\u001b[0m\n",
            "\u001b[0;32m/usr/local/lib/python3.11/dist-packages/pandas/io/parsers/readers.py\u001b[0m in \u001b[0;36m__init__\u001b[0;34m(self, f, engine, **kwds)\u001b[0m\n\u001b[1;32m   1618\u001b[0m \u001b[0;34m\u001b[0m\u001b[0m\n\u001b[1;32m   1619\u001b[0m         \u001b[0mself\u001b[0m\u001b[0;34m.\u001b[0m\u001b[0mhandles\u001b[0m\u001b[0;34m:\u001b[0m \u001b[0mIOHandles\u001b[0m \u001b[0;34m|\u001b[0m \u001b[0;32mNone\u001b[0m \u001b[0;34m=\u001b[0m \u001b[0;32mNone\u001b[0m\u001b[0;34m\u001b[0m\u001b[0;34m\u001b[0m\u001b[0m\n\u001b[0;32m-> 1620\u001b[0;31m         \u001b[0mself\u001b[0m\u001b[0;34m.\u001b[0m\u001b[0m_engine\u001b[0m \u001b[0;34m=\u001b[0m \u001b[0mself\u001b[0m\u001b[0;34m.\u001b[0m\u001b[0m_make_engine\u001b[0m\u001b[0;34m(\u001b[0m\u001b[0mf\u001b[0m\u001b[0;34m,\u001b[0m \u001b[0mself\u001b[0m\u001b[0;34m.\u001b[0m\u001b[0mengine\u001b[0m\u001b[0;34m)\u001b[0m\u001b[0;34m\u001b[0m\u001b[0;34m\u001b[0m\u001b[0m\n\u001b[0m\u001b[1;32m   1621\u001b[0m \u001b[0;34m\u001b[0m\u001b[0m\n\u001b[1;32m   1622\u001b[0m     \u001b[0;32mdef\u001b[0m \u001b[0mclose\u001b[0m\u001b[0;34m(\u001b[0m\u001b[0mself\u001b[0m\u001b[0;34m)\u001b[0m \u001b[0;34m->\u001b[0m \u001b[0;32mNone\u001b[0m\u001b[0;34m:\u001b[0m\u001b[0;34m\u001b[0m\u001b[0;34m\u001b[0m\u001b[0m\n",
            "\u001b[0;32m/usr/local/lib/python3.11/dist-packages/pandas/io/parsers/readers.py\u001b[0m in \u001b[0;36m_make_engine\u001b[0;34m(self, f, engine)\u001b[0m\n\u001b[1;32m   1878\u001b[0m                 \u001b[0;32mif\u001b[0m \u001b[0;34m\"b\"\u001b[0m \u001b[0;32mnot\u001b[0m \u001b[0;32min\u001b[0m \u001b[0mmode\u001b[0m\u001b[0;34m:\u001b[0m\u001b[0;34m\u001b[0m\u001b[0;34m\u001b[0m\u001b[0m\n\u001b[1;32m   1879\u001b[0m                     \u001b[0mmode\u001b[0m \u001b[0;34m+=\u001b[0m \u001b[0;34m\"b\"\u001b[0m\u001b[0;34m\u001b[0m\u001b[0;34m\u001b[0m\u001b[0m\n\u001b[0;32m-> 1880\u001b[0;31m             self.handles = get_handle(\n\u001b[0m\u001b[1;32m   1881\u001b[0m                 \u001b[0mf\u001b[0m\u001b[0;34m,\u001b[0m\u001b[0;34m\u001b[0m\u001b[0;34m\u001b[0m\u001b[0m\n\u001b[1;32m   1882\u001b[0m                 \u001b[0mmode\u001b[0m\u001b[0;34m,\u001b[0m\u001b[0;34m\u001b[0m\u001b[0;34m\u001b[0m\u001b[0m\n",
            "\u001b[0;32m/usr/local/lib/python3.11/dist-packages/pandas/io/common.py\u001b[0m in \u001b[0;36mget_handle\u001b[0;34m(path_or_buf, mode, encoding, compression, memory_map, is_text, errors, storage_options)\u001b[0m\n\u001b[1;32m    871\u001b[0m         \u001b[0;32mif\u001b[0m \u001b[0mioargs\u001b[0m\u001b[0;34m.\u001b[0m\u001b[0mencoding\u001b[0m \u001b[0;32mand\u001b[0m \u001b[0;34m\"b\"\u001b[0m \u001b[0;32mnot\u001b[0m \u001b[0;32min\u001b[0m \u001b[0mioargs\u001b[0m\u001b[0;34m.\u001b[0m\u001b[0mmode\u001b[0m\u001b[0;34m:\u001b[0m\u001b[0;34m\u001b[0m\u001b[0;34m\u001b[0m\u001b[0m\n\u001b[1;32m    872\u001b[0m             \u001b[0;31m# Encoding\u001b[0m\u001b[0;34m\u001b[0m\u001b[0;34m\u001b[0m\u001b[0m\n\u001b[0;32m--> 873\u001b[0;31m             handle = open(\n\u001b[0m\u001b[1;32m    874\u001b[0m                 \u001b[0mhandle\u001b[0m\u001b[0;34m,\u001b[0m\u001b[0;34m\u001b[0m\u001b[0;34m\u001b[0m\u001b[0m\n\u001b[1;32m    875\u001b[0m                 \u001b[0mioargs\u001b[0m\u001b[0;34m.\u001b[0m\u001b[0mmode\u001b[0m\u001b[0;34m,\u001b[0m\u001b[0;34m\u001b[0m\u001b[0;34m\u001b[0m\u001b[0m\n",
            "\u001b[0;31mFileNotFoundError\u001b[0m: [Errno 2] No such file or directory: '/content/drive/MyDrive/reaction_time_datas - reaction_time_datas - Sheet1 (1) (2) - reaction_time_datas - reaction_time_datas - Sheet1 (1) (2).csv'"
          ]
        }
      ],
      "source": [
        "import pandas as pd\n",
        "import matplotlib.pyplot as plt\n",
        "import seaborn as sns\n",
        "from scipy.stats import ttest_rel\n",
        "import statsmodels.api as sm\n",
        "\n",
        "reaction_df = pd.read_csv('/content/drive/MyDrive/reaction_time_datas - reaction_time_datas - Sheet1 (1) (2) - reaction_time_datas - reaction_time_datas - Sheet1 (1) (2).csv')\n",
        "digit_df = pd.read_csv('/content/drive/MyDrive/processed_digit_span_data_last - processed_digit_span_data (1) - processed_digit_span_data_last - processed_digit_span_data (1).csv')\n",
        "stroop_df = pd.read_csv('/content/drive/MyDrive/Stroop_score_datas - Sheet1 (3).csv')\n",
        "verbal_df = pd.read_csv('/content/drive/MyDrive/verbal_test_data (2).csv')\n"
      ]
    },
    {
      "cell_type": "code",
      "source": [
        "# Prepare Reaction Time\n",
        "reaction_df.columns = reaction_df.columns.str.strip()\n",
        "reaction_df['Date'] = pd.to_datetime(reaction_df['Date'], dayfirst=True)\n",
        "reaction_df['Reaction Time (Before)'] = reaction_df['Reaction Time (Before)'].str.replace(',', '.').astype(float)\n",
        "reaction_df['Reaction Time (After)'] = reaction_df['Reaction Time (After)'].str.replace(',', '.').astype(float)\n",
        "reaction_df['Reaction Improvement'] = reaction_df['Reaction Time (Before)'] - reaction_df['Reaction Time (After)']"
      ],
      "metadata": {
        "id": "fLbNx0rBj2UJ"
      },
      "execution_count": null,
      "outputs": []
    },
    {
      "cell_type": "code",
      "source": [
        "# Prepare Digit Span\n",
        "digit_df['Date'] = pd.to_datetime(digit_df['Date'])\n",
        "digit_df['Digit Span Improvement'] = digit_df['Digit Span (After)'] - digit_df['Digit Span (Before)']"
      ],
      "metadata": {
        "id": "v1SIL0I4j4IZ"
      },
      "execution_count": null,
      "outputs": []
    },
    {
      "cell_type": "code",
      "source": [
        "# Prepare Stroop\n",
        "stroop_df_clean = stroop_df.iloc[2:].copy()\n",
        "stroop_df_clean.columns = ['Date', 'Chess Played?', 'Stroop Score (Before)', 'Stroop Score (After)']\n",
        "stroop_df_clean['Date'] = pd.to_datetime(stroop_df_clean['Date'], dayfirst=True)\n",
        "stroop_df_clean['Stroop Score (Before)'] = stroop_df_clean['Stroop Score (Before)'].astype(float)\n",
        "stroop_df_clean['Stroop Score (After)'] = stroop_df_clean['Stroop Score (After)'].astype(float)\n",
        "stroop_df_clean['Stroop Improvement'] = stroop_df_clean['Stroop Score (After)'] - stroop_df_clean['Stroop Score (Before)']"
      ],
      "metadata": {
        "id": "Aqz7dTs5j6BQ"
      },
      "execution_count": null,
      "outputs": []
    },
    {
      "cell_type": "code",
      "source": [
        "# Prepare Verbal Memory\n",
        "verbal_df['Date'] = pd.to_datetime(verbal_df['Date'], dayfirst=True)\n",
        "verbal_pivot = verbal_df.pivot(index=['Date', 'Chess Played?'], columns='Test Phase', values='Verbal Memory Score').reset_index()\n",
        "verbal_pivot['Verbal Improvement'] = verbal_pivot['After'] - verbal_pivot['Before']"
      ],
      "metadata": {
        "id": "aX4_ymTcj70d"
      },
      "execution_count": null,
      "outputs": []
    },
    {
      "cell_type": "code",
      "source": [
        "# Reaction Time\n",
        "reaction_t, reaction_p = ttest_rel(reaction_df['Reaction Time (Before)'], reaction_df['Reaction Time (After)'], nan_policy='omit')\n",
        "# Digit Span\n",
        "digit_t, digit_p = ttest_rel(digit_df['Digit Span (Before)'], digit_df['Digit Span (After)'], nan_policy='omit')\n",
        "# Stroop\n",
        "stroop_t, stroop_p = ttest_rel(stroop_df_clean['Stroop Score (Before)'], stroop_df_clean['Stroop Score (After)'], nan_policy='omit')\n",
        "# Verbal Memory\n",
        "verbal_t, verbal_p = ttest_rel(verbal_pivot['Before'], verbal_pivot['After'], nan_policy='omit')\n",
        "\n",
        "print(f'Reaction Time Paired t-test p-value: {reaction_p:.4f}')\n",
        "print(f'Digit Span Paired t-test p-value: {digit_p:.4f}')\n",
        "print(f'Stroop Test Paired t-test p-value: {stroop_p:.4f}')\n",
        "print(f'Verbal Memory Paired t-test p-value: {verbal_p:.4f}')"
      ],
      "metadata": {
        "id": "7WO7vbg5j9MK"
      },
      "execution_count": null,
      "outputs": []
    },
    {
      "cell_type": "code",
      "source": [
        "# Add Chess Played as binary\n",
        "reaction_df['Chess_Yes'] = reaction_df['Chess Played?'].apply(lambda x: 1 if x == 'Yes' else 0)\n",
        "digit_df['Chess_Yes'] = digit_df['Chess Played?'].apply(lambda x: 1 if x == 'Yes' else 0)\n",
        "stroop_df_clean['Chess_Yes'] = stroop_df_clean['Chess Played?'].apply(lambda x: 1 if x == 'Yes' else 0)\n",
        "verbal_pivot['Chess_Yes'] = verbal_pivot['Chess Played?'].apply(lambda x: 1 if x == 'Yes' else 0)"
      ],
      "metadata": {
        "id": "60PXLoG6kAa0"
      },
      "execution_count": null,
      "outputs": []
    },
    {
      "cell_type": "code",
      "source": [
        "import statsmodels.api as sm\n",
        "\n",
        "# Reaction Time\n",
        "X_reaction = sm.add_constant(reaction_df['Chess_Yes'])\n",
        "model_reaction = sm.OLS(reaction_df['Reaction Improvement'], X_reaction).fit()\n",
        "\n",
        "# Digit Span\n",
        "X_digit = sm.add_constant(digit_df['Chess_Yes'])\n",
        "model_digit = sm.OLS(digit_df['Digit Span Improvement'], X_digit).fit()\n",
        "\n",
        "# Stroop\n",
        "X_stroop = sm.add_constant(stroop_df_clean['Chess_Yes'])\n",
        "model_stroop = sm.OLS(stroop_df_clean['Stroop Improvement'], X_stroop).fit()\n",
        "\n",
        "# Verbal Memory\n",
        "X_verbal = sm.add_constant(verbal_pivot['Chess_Yes'])\n",
        "model_verbal = sm.OLS(verbal_pivot['Verbal Improvement'], X_verbal).fit()\n",
        "\n",
        "# Temiz ve basit çıktı almak\n",
        "def simple_regression_output(model, model_name):\n",
        "    try:\n",
        "        p_value = model.pvalues['Chess_Yes']\n",
        "        coef = model.params['Chess_Yes']\n",
        "\n",
        "        print(f\"🔹 {model_name}\")\n",
        "        if pd.isna(p_value) or pd.isna(coef):\n",
        "            print(f\"    🚫 Result: Regression could not be performed (possible missing or constant data).\\n\")\n",
        "        else:\n",
        "            print(f\"    ➔ Coefficient (Chess Played): {coef:.4f}\")\n",
        "            print(f\"    ➔ p-value: {p_value:.4f}\")\n",
        "            if p_value < 0.05:\n",
        "                print(f\"     Result: Statistically significant at 0.05 level.\\n\")\n",
        "            else:\n",
        "                print(f\"     Result: Not statistically significant at 0.05 level.\\n\")\n",
        "    except Exception as e:\n",
        "        print(f\"     Error analyzing {model_name}: {str(e)}\\n\")\n",
        "\n",
        "# Kullanım:\n",
        "simple_regression_output(model_reaction, \"Reaction Time Improvement\")\n",
        "simple_regression_output(model_digit, \"Digit Span Improvement\")\n",
        "simple_regression_output(model_stroop, \"Stroop Improvement\")\n",
        "simple_regression_output(model_verbal, \"Verbal Memory Improvement\")\n"
      ],
      "metadata": {
        "id": "QyOeV4uVkCMP"
      },
      "execution_count": null,
      "outputs": []
    }
  ]
}
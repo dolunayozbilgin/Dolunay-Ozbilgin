{
 "cells": [
  {
   "cell_type": "markdown",
   "id": "f39899b1",
   "metadata": {},
   "source": [
    "# 🧪 Hypothesis Testing & Linear Regression: Chess Playing vs Cognitive Performance"
   ]
  },
  {
   "cell_type": "markdown",
   "id": "7d693255",
   "metadata": {},
   "source": [
    "## 📌 Objective\n",
    "Analyze the impact of chess playing on multiple cognitive skills:\n",
    "- Reaction Time\n",
    "- Stroop Test\n",
    "- Digit Span Memory Test\n",
    "- Verbal Memory Test\n",
    "\n",
    "using t-tests and linear regression models.\n",
    "\n",
    "**Null Hypothesis (H₀):** Chess playing does not significantly affect cognitive outcomes.\n",
    "**Alternative Hypothesis (H₁):** Chess playing improves cognitive outcomes."
   ]
  },
  {
   "cell_type": "code",
   "execution_count": null,
   "id": "fe411c4d",
   "metadata": {},
   "outputs": [],
   "source": [
    "import pandas as pd\n",
    "import matplotlib.pyplot as plt\n",
    "import seaborn as sns\n",
    "from scipy.stats import ttest_ind\n",
    "import statsmodels.api as sm\n",
    "\n",
    "# Load all datasets\n",
    "reaction_df = pd.read_csv('/mnt/data/reaction_time_datas - reaction_time_datas - Sheet1 (1) (2).csv')\n",
    "digit_df = pd.read_csv('/mnt/data/processed_digit_span_data (1) (2).csv')\n",
    "stroop_df = pd.read_csv('/mnt/data/Stroop_score_datas - Sheet1 (2).csv')\n",
    "verbal_df = pd.read_csv('/mnt/data/verbal_test_data (1).csv')\n"
   ]
  },
  {
   "cell_type": "markdown",
   "id": "9eac1b1c",
   "metadata": {},
   "source": [
    "## 📚 Data Preparation"
   ]
  },
  {
   "cell_type": "code",
   "execution_count": null,
   "id": "2ac65e95",
   "metadata": {},
   "outputs": [],
   "source": [
    "# Reaction Time Dataset\n",
    "reaction_df.columns = reaction_df.columns.str.strip()\n",
    "reaction_df['Date'] = pd.to_datetime(reaction_df['Date'], dayfirst=True)\n",
    "reaction_df['Reaction Time (Before)'] = reaction_df['Reaction Time (Before)'].str.replace(',', '.').astype(float)\n",
    "reaction_df['Reaction Time (After)'] = reaction_df['Reaction Time (After)'].str.replace(',', '.').astype(float)\n",
    "reaction_df['Reaction Improvement'] = reaction_df['Reaction Time (Before)'] - reaction_df['Reaction Time (After)']\n",
    "\n",
    "# Digit Span Dataset\n",
    "digit_df['Date'] = pd.to_datetime(digit_df['Date'])\n",
    "digit_df['Digit Span Improvement'] = digit_df['Digit Span (After)'] - digit_df['Digit Span (Before)']\n",
    "\n",
    "# Stroop Dataset\n",
    "stroop_df_clean = stroop_df.iloc[2:].copy()\n",
    "stroop_df_clean.columns = ['Date', 'Chess Played?', 'Stroop Score (Before)', 'Stroop Score (After)']\n",
    "stroop_df_clean['Date'] = pd.to_datetime(stroop_df_clean['Date'], dayfirst=True)\n",
    "stroop_df_clean['Stroop Score (Before)'] = stroop_df_clean['Stroop Score (Before)'].astype(float)\n",
    "stroop_df_clean['Stroop Score (After)'] = stroop_df_clean['Stroop Score (After)'].astype(float)\n",
    "stroop_df_clean['Stroop Improvement'] = stroop_df_clean['Stroop Score (After)'] - stroop_df_clean['Stroop Score (Before)']\n",
    "\n",
    "# Verbal Memory Dataset\n",
    "verbal_df['Date'] = pd.to_datetime(verbal_df['Date'], dayfirst=True)\n",
    "verbal_pivot = verbal_df.pivot(index=['Date', 'Chess Played?'], columns='Test Phase', values='Verbal Memory Score').reset_index()\n",
    "verbal_pivot['Verbal Improvement'] = verbal_pivot['After'] - verbal_pivot['Before']\n"
   ]
  },
  {
   "cell_type": "markdown",
   "id": "e00b2572",
   "metadata": {},
   "source": [
    "## 🧪 T-tests: Comparing Chess vs Non-Chess Days"
   ]
  },
  {
   "cell_type": "code",
   "execution_count": null,
   "id": "fe56c6a9",
   "metadata": {},
   "outputs": [],
   "source": [
    "# Reaction Time\n",
    "reaction_chess = reaction_df[reaction_df['Chess Played?'] == 'Yes']['Reaction Improvement']\n",
    "reaction_nochess = reaction_df[reaction_df['Chess Played?'] == 'No']['Reaction Improvement']\n",
    "reaction_t, reaction_p = ttest_ind(reaction_chess, reaction_nochess, equal_var=False, nan_policy='omit')\n",
    "\n",
    "# Digit Span\n",
    "digit_chess = digit_df[digit_df['Chess Played?'] == 'Yes']['Digit Span Improvement']\n",
    "digit_nochess = digit_df[digit_df['Chess Played?'] == 'No']['Digit Span Improvement']\n",
    "digit_t, digit_p = ttest_ind(digit_chess, digit_nochess, equal_var=False, nan_policy='omit')\n",
    "\n",
    "# Stroop\n",
    "stroop_chess = stroop_df_clean[stroop_df_clean['Chess Played?'] == 'Yes']['Stroop Improvement']\n",
    "stroop_nochess = stroop_df_clean[stroop_df_clean['Chess Played?'] == 'No']['Stroop Improvement']\n",
    "stroop_t, stroop_p = ttest_ind(stroop_chess, stroop_nochess, equal_var=False, nan_policy='omit')\n",
    "\n",
    "# Verbal Memory\n",
    "verbal_chess = verbal_pivot[verbal_pivot['Chess Played?'] == 'Yes']['Verbal Improvement']\n",
    "verbal_nochess = verbal_pivot[verbal_pivot['Chess Played?'] == 'No']['Verbal Improvement']\n",
    "verbal_t, verbal_p = ttest_ind(verbal_chess, verbal_nochess, equal_var=False, nan_policy='omit')\n",
    "\n",
    "print(f\"Reaction Time Improvement t-test p-value: {reaction_p:.4f}\")\n",
    "print(f\"Digit Span Improvement t-test p-value: {digit_p:.4f}\")\n",
    "print(f\"Stroop Improvement t-test p-value: {stroop_p:.4f}\")\n",
    "print(f\"Verbal Memory Improvement t-test p-value: {verbal_p:.4f}\")"
   ]
  },
  {
   "cell_type": "markdown",
   "id": "eb1e0827",
   "metadata": {},
   "source": [
    "## 📈 Linear Regression: Chess Played vs Improvements"
   ]
  },
  {
   "cell_type": "code",
   "execution_count": null,
   "id": "18d75aac",
   "metadata": {},
   "outputs": [],
   "source": [
    "# Prepare Regression Data\n",
    "stroop_df_clean['Chess_Yes'] = stroop_df_clean['Chess Played?'].apply(lambda x: 1 if x == 'Yes' else 0)\n",
    "reaction_df['Chess_Yes'] = reaction_df['Chess Played?'].apply(lambda x: 1 if x == 'Yes' else 0)\n",
    "digit_df['Chess_Yes'] = digit_df['Chess Played?'].apply(lambda x: 1 if x == 'Yes' else 0)\n",
    "verbal_pivot['Chess_Yes'] = verbal_pivot['Chess Played?'].apply(lambda x: 1 if x == 'Yes' else 0)\n",
    "\n",
    "# Stroop Regression\n",
    "X_stroop = sm.add_constant(stroop_df_clean['Chess_Yes'])\n",
    "model_stroop = sm.OLS(stroop_df_clean['Stroop Improvement'], X_stroop).fit()\n",
    "\n",
    "# Reaction Regression\n",
    "X_reaction = sm.add_constant(reaction_df['Chess_Yes'])\n",
    "model_reaction = sm.OLS(reaction_df['Reaction Improvement'], X_reaction).fit()\n",
    "\n",
    "# Digit Span Regression\n",
    "X_digit = sm.add_constant(digit_df['Chess_Yes'])\n",
    "model_digit = sm.OLS(digit_df['Digit Span Improvement'], X_digit).fit()\n",
    "\n",
    "# Verbal Regression\n",
    "X_verbal = sm.add_constant(verbal_pivot['Chess_Yes'])\n",
    "model_verbal = sm.OLS(verbal_pivot['Verbal Improvement'], X_verbal).fit()\n",
    "\n",
    "print(model_stroop.summary())\n",
    "print(model_reaction.summary())\n",
    "print(model_digit.summary())\n",
    "print(model_verbal.summary())"
   ]
  }
 ],
 "metadata": {},
 "nbformat": 4,
 "nbformat_minor": 5
}

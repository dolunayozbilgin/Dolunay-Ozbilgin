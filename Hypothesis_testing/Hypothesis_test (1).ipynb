{
  "nbformat": 4,
  "nbformat_minor": 0,
  "metadata": {
    "colab": {
      "provenance": []
    },
    "kernelspec": {
      "name": "python3",
      "display_name": "Python 3"
    },
    "language_info": {
      "name": "python"
    }
  },
  "cells": [
    {
      "cell_type": "code",
      "execution_count": 2,
      "metadata": {
        "colab": {
          "base_uri": "https://localhost:8080/"
        },
        "id": "nMDLmW6miFZ1",
        "outputId": "5d475654-bd09-4cf1-e9b3-b823fe68a60c"
      },
      "outputs": [
        {
          "output_type": "stream",
          "name": "stdout",
          "text": [
            "Mounted at /content/drive\n"
          ]
        }
      ],
      "source": [
        "import pandas as pd\n",
        "import matplotlib.pyplot as plt\n",
        "import seaborn as sns\n",
        "from scipy.stats import ttest_rel\n",
        "import statsmodels.api as sm\n",
        "\n",
        "from google.colab import drive\n",
        "drive.mount('/content/drive')\n",
        "\n",
        "reaction_df = pd.read_csv('/content/drive/MyDrive/reaction_time_datas - reaction_time_datas - Sheet1 (1) (2) - reaction_time_datas - reaction_time_datas - Sheet1 (1) (2).csv')\n",
        "digit_df = pd.read_csv('/content/drive/MyDrive/processed_digit_span_data_last - processed_digit_span_data (1) - processed_digit_span_data_last - processed_digit_span_data (1).csv')\n",
        "stroop_df = pd.read_csv('/content/drive/MyDrive/Stroop_score_datas - Sheet1 (3).csv')\n",
        "verbal_df = pd.read_csv('/content/drive/MyDrive/verbal_test_data (2).csv')\n"
      ]
    },
    {
      "cell_type": "code",
      "source": [
        "# Prepare Reaction Time\n",
        "reaction_df.columns = reaction_df.columns.str.strip()\n",
        "reaction_df['Date'] = pd.to_datetime(reaction_df['Date'], dayfirst=True)\n",
        "reaction_df['Reaction Time (Before)'] = reaction_df['Reaction Time (Before)'].str.replace(',', '.').astype(float)\n",
        "reaction_df['Reaction Time (After)'] = reaction_df['Reaction Time (After)'].str.replace(',', '.').astype(float)\n",
        "reaction_df['Reaction Improvement'] = reaction_df['Reaction Time (Before)'] - reaction_df['Reaction Time (After)']"
      ],
      "metadata": {
        "id": "fLbNx0rBj2UJ"
      },
      "execution_count": 3,
      "outputs": []
    },
    {
      "cell_type": "code",
      "source": [
        "# Prepare Digit Span\n",
        "digit_df['Date'] = pd.to_datetime(digit_df['Date'])\n",
        "digit_df['Digit Span Improvement'] = digit_df['Digit Span (After)'] - digit_df['Digit Span (Before)']"
      ],
      "metadata": {
        "id": "v1SIL0I4j4IZ"
      },
      "execution_count": 4,
      "outputs": []
    },
    {
      "cell_type": "code",
      "source": [
        "# Prepare Stroop\n",
        "stroop_df_clean = stroop_df.iloc[2:].copy()\n",
        "stroop_df_clean.columns = ['Date', 'Chess Played?', 'Stroop Score (Before)', 'Stroop Score (After)']\n",
        "stroop_df_clean['Date'] = pd.to_datetime(stroop_df_clean['Date'], dayfirst=True)\n",
        "stroop_df_clean['Stroop Score (Before)'] = stroop_df_clean['Stroop Score (Before)'].astype(float)\n",
        "stroop_df_clean['Stroop Score (After)'] = stroop_df_clean['Stroop Score (After)'].astype(float)\n",
        "stroop_df_clean['Stroop Improvement'] = stroop_df_clean['Stroop Score (After)'] - stroop_df_clean['Stroop Score (Before)']"
      ],
      "metadata": {
        "id": "Aqz7dTs5j6BQ"
      },
      "execution_count": 5,
      "outputs": []
    },
    {
      "cell_type": "code",
      "source": [
        "# Prepare Verbal Memory\n",
        "verbal_df['Date'] = pd.to_datetime(verbal_df['Date'], dayfirst=True)\n",
        "verbal_pivot = verbal_df.pivot(index=['Date', 'Chess Played?'], columns='Test Phase', values='Verbal Memory Score').reset_index()\n",
        "verbal_pivot['Verbal Improvement'] = verbal_pivot['After'] - verbal_pivot['Before']"
      ],
      "metadata": {
        "id": "aX4_ymTcj70d"
      },
      "execution_count": 6,
      "outputs": []
    },
    {
      "cell_type": "code",
      "source": [
        "# Reaction Time\n",
        "reaction_t, reaction_p = ttest_rel(reaction_df['Reaction Time (Before)'], reaction_df['Reaction Time (After)'], nan_policy='omit')\n",
        "# Digit Span\n",
        "digit_t, digit_p = ttest_rel(digit_df['Digit Span (Before)'], digit_df['Digit Span (After)'], nan_policy='omit')\n",
        "# Stroop\n",
        "stroop_t, stroop_p = ttest_rel(stroop_df_clean['Stroop Score (Before)'], stroop_df_clean['Stroop Score (After)'], nan_policy='omit')\n",
        "# Verbal Memory\n",
        "verbal_t, verbal_p = ttest_rel(verbal_pivot['Before'], verbal_pivot['After'], nan_policy='omit')\n",
        "\n",
        "print(f'Reaction Time Paired t-test p-value: {reaction_p:.4f}')\n",
        "print(f'Digit Span Paired t-test p-value: {digit_p:.4f}')\n",
        "print(f'Stroop Test Paired t-test p-value: {stroop_p:.4f}')\n",
        "print(f'Verbal Memory Paired t-test p-value: {verbal_p:.4f}')"
      ],
      "metadata": {
        "id": "7WO7vbg5j9MK",
        "colab": {
          "base_uri": "https://localhost:8080/"
        },
        "outputId": "4a1afd5d-0600-49be-ea4f-0188e46a94f0"
      },
      "execution_count": 7,
      "outputs": [
        {
          "output_type": "stream",
          "name": "stdout",
          "text": [
            "Reaction Time Paired t-test p-value: 0.2706\n",
            "Digit Span Paired t-test p-value: 0.0977\n",
            "Stroop Test Paired t-test p-value: 0.0000\n",
            "Verbal Memory Paired t-test p-value: 0.0102\n"
          ]
        }
      ]
    },
    {
      "cell_type": "code",
      "source": [
        "# Add Chess Played as binary\n",
        "reaction_df['Chess_Yes'] = reaction_df['Chess Played?'].apply(lambda x: 1 if x == 'Yes' else 0)\n",
        "digit_df['Chess_Yes'] = digit_df['Chess Played?'].apply(lambda x: 1 if x == 'Yes' else 0)\n",
        "stroop_df_clean['Chess_Yes'] = stroop_df_clean['Chess Played?'].apply(lambda x: 1 if x == 'Yes' else 0)\n",
        "verbal_pivot['Chess_Yes'] = verbal_pivot['Chess Played?'].apply(lambda x: 1 if x == 'Yes' else 0)"
      ],
      "metadata": {
        "id": "60PXLoG6kAa0"
      },
      "execution_count": 8,
      "outputs": []
    },
    {
      "cell_type": "code",
      "source": [
        "import statsmodels.api as sm\n",
        "\n",
        "# Reaction Time\n",
        "X_reaction = sm.add_constant(reaction_df['Chess_Yes'])\n",
        "model_reaction = sm.OLS(reaction_df['Reaction Improvement'], X_reaction).fit()\n",
        "\n",
        "# Digit Span\n",
        "X_digit = sm.add_constant(digit_df['Chess_Yes'])\n",
        "model_digit = sm.OLS(digit_df['Digit Span Improvement'], X_digit).fit()\n",
        "\n",
        "# Stroop\n",
        "X_stroop = sm.add_constant(stroop_df_clean['Chess_Yes'])\n",
        "model_stroop = sm.OLS(stroop_df_clean['Stroop Improvement'], X_stroop).fit()\n",
        "\n",
        "# Verbal Memory\n",
        "X_verbal = sm.add_constant(verbal_pivot['Chess_Yes'])\n",
        "model_verbal = sm.OLS(verbal_pivot['Verbal Improvement'], X_verbal).fit()\n",
        "\n",
        "# Temiz ve basit çıktı almak\n",
        "def simple_regression_output(model, model_name):\n",
        "    try:\n",
        "        p_value = model.pvalues['Chess_Yes']\n",
        "        coef = model.params['Chess_Yes']\n",
        "\n",
        "        print(f\" {model_name}\")\n",
        "        if pd.isna(p_value) or pd.isna(coef):\n",
        "            print(f\"     Result: Regression could not be performed (possible missing or constant data).\\n\")\n",
        "        else:\n",
        "            print(f\"    ➔ Coefficient (Chess Played): {coef:.4f}\")\n",
        "            print(f\"    ➔ p-value: {p_value:.4f}\")\n",
        "            if p_value < 0.05:\n",
        "                print(f\"     Result: Statistically significant at 0.05 level.\\n\")\n",
        "            else:\n",
        "                print(f\"     Result: Not statistically significant at 0.05 level.\\n\")\n",
        "    except Exception as e:\n",
        "        print(f\"     Error analyzing {model_name}: {str(e)}\\n\")\n",
        "\n",
        "# Kullanım:\n",
        "simple_regression_output(model_reaction, \"Reaction Time Improvement\")\n",
        "simple_regression_output(model_digit, \"Digit Span Improvement\")\n",
        "simple_regression_output(model_stroop, \"Stroop Improvement\")\n",
        "simple_regression_output(model_verbal, \"Verbal Memory Improvement\")\n"
      ],
      "metadata": {
        "id": "QyOeV4uVkCMP",
        "colab": {
          "base_uri": "https://localhost:8080/"
        },
        "outputId": "6e2e405a-0199-424b-df96-94432a5c4515"
      },
      "execution_count": 10,
      "outputs": [
        {
          "output_type": "stream",
          "name": "stdout",
          "text": [
            " Reaction Time Improvement\n",
            "    ➔ Coefficient (Chess Played): 6.1747\n",
            "    ➔ p-value: 0.1308\n",
            "     Result: Not statistically significant at 0.05 level.\n",
            "\n",
            " Digit Span Improvement\n",
            "    ➔ Coefficient (Chess Played): 1.9583\n",
            "    ➔ p-value: 0.0151\n",
            "     Result: Statistically significant at 0.05 level.\n",
            "\n",
            " Stroop Improvement\n",
            "    ➔ Coefficient (Chess Played): 1.0417\n",
            "    ➔ p-value: 0.2927\n",
            "     Result: Not statistically significant at 0.05 level.\n",
            "\n",
            " Verbal Memory Improvement\n",
            "     Result: Regression could not be performed (possible missing or constant data).\n",
            "\n"
          ]
        }
      ]
    }
  ]
}